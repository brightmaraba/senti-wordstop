{
 "cells": [
  {
   "cell_type": "code",
   "execution_count": null,
   "source": [
    "# Import \n",
    "import os\n",
    "import tweepy\n",
    "from dotenv import load_dotenv\n",
    "from textblob import TextBlob\n",
    "from wordcloud import WordCloud\n",
    "import matplotlib.pyplot as plt\n",
    "import numpy as np\n",
    "import pandas as pd\n",
    "import re\n",
    "from pylab import rcParams\n",
    "rcParams['figure.figsize'] = 12, 8"
   ],
   "outputs": [],
   "metadata": {}
  },
  {
   "cell_type": "code",
   "execution_count": null,
   "source": [
    "# Load environment variables - Tweeter API keys\n",
    "load_dotenv()\n",
    "consumer_key = os.getenv('CONSUMER_KEY')\n",
    "consumer_secret = os.getenv('CONSUMER_SECRET')\n",
    "access_token = os.getenv('ACCESS_TOKEN')\n",
    "access_token_secret = os.getenv('ACCESS_TOKEN_SECRET')\n",
    "\n",
    "\n",
    "auth =  tweepy.OAuthHandler(consumer_key, consumer_secret)\n",
    "auth.set_access_token(access_token, access_token_secret)\n",
    "api = tweepy.API(auth, wait_on_rate_limit=True)\n",
    "\n",
    "\n",
    "username = 'LibranTechie'\n",
    "count = 100\n",
    "\n",
    "tweets = tweepy.Cursor(api.user_timeline, \n",
    "                        screen_name=username, \n",
    "                        count=None,\n",
    "                        since_id=None,\n",
    "                        max_id=None,\n",
    "                        trim_user=True,\n",
    "                        exclude_replies=True,\n",
    "                        contributor_details=False,\n",
    "                        include_entities=False\n",
    "                        ).items(count);\n",
    "df = pd.DataFrame(data=[tweet.text for tweet in tweets], columns=['Tweet'])\n",
    "df.head()"
   ],
   "outputs": [],
   "metadata": {}
  },
  {
   "cell_type": "code",
   "execution_count": null,
   "source": [
    "# Remove mentions, hashtags, links, retweets\n",
    "def clean_tweets(txt):\n",
    "    # Remove mentions\n",
    "    txt = re.sub(r'@[A-Za-z0-9_]+', '', txt)\n",
    "    # Remove hashtags\n",
    "    txt = re.sub(r'#', '', txt)\n",
    "    # Remove retweets:\n",
    "    txt = re.sub(r'RT : ', '', txt)\n",
    "    # Remove urls\n",
    "    txt = re.sub(r'https?:\\/\\/[A-Za-z0-9\\.\\/]+', '', txt)\n",
    "    return txt\n",
    "\n",
    "df['Tweet'] = df['Tweet'].apply(clean_tweets)"
   ],
   "outputs": [],
   "metadata": {}
  },
  {
   "cell_type": "code",
   "execution_count": null,
   "source": [
    "# Assign polarity and subjectivity to each tweet\n",
    "def get_subjectivity(txt):\n",
    "    return TextBlob(txt).sentiment.subjectivity\n",
    "\n",
    "def get_polarity(txt):\n",
    "    return TextBlob(txt).sentiment.polarity\n",
    "\n",
    "df['Subjectivity'] = df['Tweet'].apply(get_subjectivity)\n",
    "df['Polarity'] = df['Tweet'].apply(get_polarity)\n",
    "\n",
    "df.head(100)\n",
    "    "
   ],
   "outputs": [],
   "metadata": {}
  },
  {
   "cell_type": "code",
   "execution_count": null,
   "source": [
    "# Replace Empty values with NaN the drop them\n",
    "df['Tweet'].replace('', np.nan, inplace=True)\n",
    "df.dropna(subset=['Tweet'], inplace=True)\n",
    "print(df)"
   ],
   "outputs": [],
   "metadata": {}
  },
  {
   "cell_type": "code",
   "execution_count": null,
   "source": [
    "# Classify tweets as positive, negative or neutral\n",
    "def classify_tweets(a):\n",
    "    if a > 0:\n",
    "        return 'Positive'\n",
    "    elif a == 0:\n",
    "        return 'Neutral'\n",
    "    else:\n",
    "        return 'Negative'\n",
    "\n",
    "df['Score'] = df['Polarity'].apply(classify_tweets)\n",
    "df.head(100)"
   ],
   "outputs": [],
   "metadata": {}
  },
  {
   "cell_type": "code",
   "execution_count": null,
   "source": [
    "# Calculate % of positive tweets\n",
    "positive = df[df['Score'] == 'Positive']\n",
    "\n",
    "print(str(positive.shape[0]/(df.shape[0])*100) + \" % of positive tweets\")"
   ],
   "outputs": [],
   "metadata": {}
  },
  {
   "cell_type": "code",
   "execution_count": null,
   "source": [
    "# Visualise the polarity of the tweets\n",
    "labels = df.groupby('Score').count().index.values\n",
    "values = df.groupby('Score').size().values\n",
    "plt.title('Sentiment Analysis: % of Negative, Neutral and Positive Tweets')\n",
    "plt.bar(labels, values)"
   ],
   "outputs": [],
   "metadata": {}
  },
  {
   "cell_type": "code",
   "execution_count": null,
   "source": [
    "for index, row in df.iterrows():\n",
    "    if row['Score'] == 'Positive':\n",
    "        plt.scatter(row['Polarity'], row['Subjectivity'], color=\"green\")\n",
    "    elif row['Score'] == 'Negative':\n",
    "        plt.scatter(row['Polarity'], row['Subjectivity'], color=\"red\")\n",
    "    elif row['Score'] == 'Neutral':\n",
    "        plt.scatter(row['Polarity'], row['Subjectivity'], color=\"blue\")\n",
    "\n",
    "plt.title('Twitter Sentiment Analysis')\n",
    "plt.xlabel('Polarity')\n",
    "plt.ylabel('Subjectivity')\n",
    "# add legend\n",
    "plt.show()"
   ],
   "outputs": [],
   "metadata": {}
  },
  {
   "cell_type": "code",
   "execution_count": null,
   "source": [
    "# Percentage og objective tweets\n",
    "objective = df[df['Subjectivity'] == 0]\n",
    "\n",
    "print(str(objective.shape[0]/(df.shape[0])*100) + \" % of objective tweets\")"
   ],
   "outputs": [],
   "metadata": {}
  },
  {
   "cell_type": "code",
   "execution_count": null,
   "source": [
    "# Creating a word cloud\n",
    "words = ' '.join([tweet for tweet in df['Tweet']])\n",
    "wordCloud = WordCloud(width=600, height=400).generate(words)\n",
    "plt.title('Sentiment Analysis : Word Cloud')\n",
    "plt.imshow(wordCloud)\n",
    "plt.show()"
   ],
   "outputs": [],
   "metadata": {}
  }
 ],
 "metadata": {
  "orig_nbformat": 4,
  "language_info": {
   "name": "python",
   "version": "3.9.7",
   "mimetype": "text/x-python",
   "codemirror_mode": {
    "name": "ipython",
    "version": 3
   },
   "pygments_lexer": "ipython3",
   "nbconvert_exporter": "python",
   "file_extension": ".py"
  },
  "kernelspec": {
   "name": "python3",
   "display_name": "Python 3.9.7 64-bit ('minimal_ds': conda)"
  },
  "interpreter": {
   "hash": "7ac05f6c44cc5c1cccdb847c9626c6f75b9425a04d109a1169f1ec16b69adc47"
  }
 },
 "nbformat": 4,
 "nbformat_minor": 2
}